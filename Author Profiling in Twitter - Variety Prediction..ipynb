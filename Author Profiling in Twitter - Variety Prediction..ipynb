{
 "cells": [
  {
   "cell_type": "code",
   "execution_count": 1,
   "metadata": {
    "collapsed": false
   },
   "outputs": [
    {
     "name": "stdout",
     "output_type": "stream",
     "text": [
      "NLTK version:  3.2.1\n",
      "Scikit-learn version:  0.18.1\n",
      "Pandas version:  0.18.1\n"
     ]
    }
   ],
   "source": [
    "import nltk\n",
    "import sklearn\n",
    "import pandas\n",
    "print(\"NLTK version: \", nltk.__version__)\n",
    "print(\"Scikit-learn version: \", sklearn.__version__)\n",
    "print(\"Pandas version: \", pandas.__version__)\n",
    "import csv\n",
    "from nltk.tokenize import TweetTokenizer\n",
    "from sklearn.feature_extraction.text import CountVectorizer, TfidfTransformer, TfidfVectorizer\n",
    "from nltk.corpus import stopwords\n",
    "from nltk.stem import SnowballStemmer\n",
    "#from sklearn.model_selection import train_test_split\n",
    "from sklearn.naive_bayes import MultinomialNB\n",
    "from sklearn.linear_model import LogisticRegression\n",
    "from sklearn.svm import SVC\n",
    "from sklearn import metrics\n",
    "from sklearn.externals import joblib\n",
    "from sklearn.ensemble import RandomForestClassifier\n",
    "from sklearn.tree import DecisionTreeClassifier\n",
    "from sklearn.linear_model import SGDClassifier\n",
    "from sklearn import linear_model\n",
    "from scipy.sparse import hstack\n",
    "import numpy as np\n",
    "import pandas as pd\n",
    "from sklearn.metrics import accuracy_score\n",
    "from sklearn.neural_network import MLPClassifier\n",
    "import re"
   ]
  },
  {
   "cell_type": "markdown",
   "metadata": {},
   "source": [
    "### Loading Train and Test Tweets."
   ]
  },
  {
   "cell_type": "code",
   "execution_count": 2,
   "metadata": {
    "collapsed": false
   },
   "outputs": [],
   "source": [
    "file_train = \"train_tweets_no_accents.csv\"\n",
    "names = ['ID','T1','T2','T3','T4','T5','T6','T7','T8','T9','T10','T11','T12','T13','T14','T15','T16','T17','T18','T19','T20','T21','T22','T23','T24','T25','T26','T27','T28','T29','T30','T31','T32','T33','T34','T35','T36','T37','T38','T39','T40','T41','T42','T43','T44','T45','T46','T47','T48','T49','T50','T51','T52','T53','T54','T55','T56','T57','T58','T59','T60','T61','T62','T63','T64','T65','T66','T67','T68','T69','T70','T71','T72','T73','T74','T75','T76','T77','T78','T79','T80','T81','T82','T83','T84','T85','T86','T87','T88','T89','T90','T91','T92','T93','T94','T95','T96','T97','T98','T99','T100']\n",
    "df_train = pandas.read_csv(file_train,names=names,sep='\\t',encoding='utf-8',header=None,index_col=0,quoting=csv.QUOTE_NONE)"
   ]
  },
  {
   "cell_type": "code",
   "execution_count": 3,
   "metadata": {
    "collapsed": false
   },
   "outputs": [],
   "source": [
    "file_test = \"test_tweets_no_accents.csv\"\n",
    "names = ['ID','T1','T2','T3','T4','T5','T6','T7','T8','T9','T10','T11','T12','T13','T14','T15','T16','T17','T18','T19','T20','T21','T22','T23','T24','T25','T26','T27','T28','T29','T30','T31','T32','T33','T34','T35','T36','T37','T38','T39','T40','T41','T42','T43','T44','T45','T46','T47','T48','T49','T50','T51','T52','T53','T54','T55','T56','T57','T58','T59','T60','T61','T62','T63','T64','T65','T66','T67','T68','T69','T70','T71','T72','T73','T74','T75','T76','T77','T78','T79','T80','T81','T82','T83','T84','T85','T86','T87','T88','T89','T90','T91','T92','T93','T94','T95','T96','T97','T98','T99','T100']\n",
    "df_test = pandas.read_csv(file_test,names=names,sep='\\t',encoding='utf-8',header=None,index_col=0,quoting=csv.QUOTE_NONE)"
   ]
  },
  {
   "cell_type": "markdown",
   "metadata": {},
   "source": [
    "#### We have one row per user, one column per user's tweet.\n",
    "#### Train: 2800 rows, 100 columns + ID.\n",
    "#### Test: 1400 rows, 100 columns + ID."
   ]
  },
  {
   "cell_type": "code",
   "execution_count": 4,
   "metadata": {
    "collapsed": false
   },
   "outputs": [
    {
     "data": {
      "text/html": [
       "<div>\n",
       "<table border=\"1\" class=\"dataframe\">\n",
       "  <thead>\n",
       "    <tr style=\"text-align: right;\">\n",
       "      <th></th>\n",
       "      <th>T1</th>\n",
       "      <th>T2</th>\n",
       "      <th>T3</th>\n",
       "      <th>T4</th>\n",
       "      <th>T5</th>\n",
       "      <th>T6</th>\n",
       "      <th>T7</th>\n",
       "      <th>T8</th>\n",
       "      <th>T9</th>\n",
       "      <th>T10</th>\n",
       "      <th>...</th>\n",
       "      <th>T91</th>\n",
       "      <th>T92</th>\n",
       "      <th>T93</th>\n",
       "      <th>T94</th>\n",
       "      <th>T95</th>\n",
       "      <th>T96</th>\n",
       "      <th>T97</th>\n",
       "      <th>T98</th>\n",
       "      <th>T99</th>\n",
       "      <th>T100</th>\n",
       "    </tr>\n",
       "    <tr>\n",
       "      <th>ID</th>\n",
       "      <th></th>\n",
       "      <th></th>\n",
       "      <th></th>\n",
       "      <th></th>\n",
       "      <th></th>\n",
       "      <th></th>\n",
       "      <th></th>\n",
       "      <th></th>\n",
       "      <th></th>\n",
       "      <th></th>\n",
       "      <th></th>\n",
       "      <th></th>\n",
       "      <th></th>\n",
       "      <th></th>\n",
       "      <th></th>\n",
       "      <th></th>\n",
       "      <th></th>\n",
       "      <th></th>\n",
       "      <th></th>\n",
       "      <th></th>\n",
       "      <th></th>\n",
       "    </tr>\n",
       "  </thead>\n",
       "  <tbody>\n",
       "    <tr>\n",
       "      <th>fff46823954870db83b3e6c74a60412c</th>\n",
       "      <td>Una practica en el Arbitraje CIADI es que si h...</td>\n",
       "      <td>@tromepe Esto me parece una falta de respeto p...</td>\n",
       "      <td>Muy buena carlincatura. https://t.co/jmYFN4rZe1</td>\n",
       "      <td>En estos tiempos de calor infernal, ser bomber...</td>\n",
       "      <td>Estoy cansado de leer que congreso solicita co...</td>\n",
       "      <td>@Politica_ECpe @elcomercio Sres. Tengan en cla...</td>\n",
       "      <td>@DiarioAltavoz Una historia con un mismo villa...</td>\n",
       "      <td>@DiarioAltavoz Fiscalia vs. Congreso, es una l...</td>\n",
       "      <td>@noticiAmerica Y de que manera ayudaremos si p...</td>\n",
       "      <td>@ammy_rocks24 te hablan creo Dolly. En coquete...</td>\n",
       "      <td>...</td>\n",
       "      <td>Dicen que todos los cambios son buenos, a empe...</td>\n",
       "      <td>@noticiAmerica Hubo show para toda clase de pu...</td>\n",
       "      <td>Para algunos este discurso fue mas de lo mismo...</td>\n",
       "      <td>Excelente participacion la del congresista Fra...</td>\n",
       "      <td>Dios te da tres respuestas: Si, no o espera. B...</td>\n",
       "      <td>Como sea queria casarse. https://t.co/qxQxs6Jlro</td>\n",
       "      <td>El mundo ya se perdio. https://t.co/04G71M0fj5</td>\n",
       "      <td>Le quedo grande el papel de Guason a Jared Let...</td>\n",
       "      <td>@Luisdiazc21 una caracteristica tuya mi buen a...</td>\n",
       "      <td>Macho peruano que se respeta, toma chela helad...</td>\n",
       "    </tr>\n",
       "  </tbody>\n",
       "</table>\n",
       "<p>1 rows × 100 columns</p>\n",
       "</div>"
      ],
      "text/plain": [
       "                                                                                 T1  \\\n",
       "ID                                                                                    \n",
       "fff46823954870db83b3e6c74a60412c  Una practica en el Arbitraje CIADI es que si h...   \n",
       "\n",
       "                                                                                 T2  \\\n",
       "ID                                                                                    \n",
       "fff46823954870db83b3e6c74a60412c  @tromepe Esto me parece una falta de respeto p...   \n",
       "\n",
       "                                                                               T3  \\\n",
       "ID                                                                                  \n",
       "fff46823954870db83b3e6c74a60412c  Muy buena carlincatura. https://t.co/jmYFN4rZe1   \n",
       "\n",
       "                                                                                 T4  \\\n",
       "ID                                                                                    \n",
       "fff46823954870db83b3e6c74a60412c  En estos tiempos de calor infernal, ser bomber...   \n",
       "\n",
       "                                                                                 T5  \\\n",
       "ID                                                                                    \n",
       "fff46823954870db83b3e6c74a60412c  Estoy cansado de leer que congreso solicita co...   \n",
       "\n",
       "                                                                                 T6  \\\n",
       "ID                                                                                    \n",
       "fff46823954870db83b3e6c74a60412c  @Politica_ECpe @elcomercio Sres. Tengan en cla...   \n",
       "\n",
       "                                                                                 T7  \\\n",
       "ID                                                                                    \n",
       "fff46823954870db83b3e6c74a60412c  @DiarioAltavoz Una historia con un mismo villa...   \n",
       "\n",
       "                                                                                 T8  \\\n",
       "ID                                                                                    \n",
       "fff46823954870db83b3e6c74a60412c  @DiarioAltavoz Fiscalia vs. Congreso, es una l...   \n",
       "\n",
       "                                                                                 T9  \\\n",
       "ID                                                                                    \n",
       "fff46823954870db83b3e6c74a60412c  @noticiAmerica Y de que manera ayudaremos si p...   \n",
       "\n",
       "                                                                                T10  \\\n",
       "ID                                                                                    \n",
       "fff46823954870db83b3e6c74a60412c  @ammy_rocks24 te hablan creo Dolly. En coquete...   \n",
       "\n",
       "                                                        ...                          \\\n",
       "ID                                                      ...                           \n",
       "fff46823954870db83b3e6c74a60412c                        ...                           \n",
       "\n",
       "                                                                                T91  \\\n",
       "ID                                                                                    \n",
       "fff46823954870db83b3e6c74a60412c  Dicen que todos los cambios son buenos, a empe...   \n",
       "\n",
       "                                                                                T92  \\\n",
       "ID                                                                                    \n",
       "fff46823954870db83b3e6c74a60412c  @noticiAmerica Hubo show para toda clase de pu...   \n",
       "\n",
       "                                                                                T93  \\\n",
       "ID                                                                                    \n",
       "fff46823954870db83b3e6c74a60412c  Para algunos este discurso fue mas de lo mismo...   \n",
       "\n",
       "                                                                                T94  \\\n",
       "ID                                                                                    \n",
       "fff46823954870db83b3e6c74a60412c  Excelente participacion la del congresista Fra...   \n",
       "\n",
       "                                                                                T95  \\\n",
       "ID                                                                                    \n",
       "fff46823954870db83b3e6c74a60412c  Dios te da tres respuestas: Si, no o espera. B...   \n",
       "\n",
       "                                                                               T96  \\\n",
       "ID                                                                                   \n",
       "fff46823954870db83b3e6c74a60412c  Como sea queria casarse. https://t.co/qxQxs6Jlro   \n",
       "\n",
       "                                                                             T97  \\\n",
       "ID                                                                                 \n",
       "fff46823954870db83b3e6c74a60412c  El mundo ya se perdio. https://t.co/04G71M0fj5   \n",
       "\n",
       "                                                                                T98  \\\n",
       "ID                                                                                    \n",
       "fff46823954870db83b3e6c74a60412c  Le quedo grande el papel de Guason a Jared Let...   \n",
       "\n",
       "                                                                                T99  \\\n",
       "ID                                                                                    \n",
       "fff46823954870db83b3e6c74a60412c  @Luisdiazc21 una caracteristica tuya mi buen a...   \n",
       "\n",
       "                                                                               T100  \n",
       "ID                                                                                   \n",
       "fff46823954870db83b3e6c74a60412c  Macho peruano que se respeta, toma chela helad...  \n",
       "\n",
       "[1 rows x 100 columns]"
      ]
     },
     "execution_count": 4,
     "metadata": {},
     "output_type": "execute_result"
    }
   ],
   "source": [
    "df_train.head(1)"
   ]
  },
  {
   "cell_type": "code",
   "execution_count": 5,
   "metadata": {
    "collapsed": false
   },
   "outputs": [
    {
     "data": {
      "text/html": [
       "<div>\n",
       "<table border=\"1\" class=\"dataframe\">\n",
       "  <thead>\n",
       "    <tr style=\"text-align: right;\">\n",
       "      <th></th>\n",
       "      <th>T1</th>\n",
       "      <th>T2</th>\n",
       "      <th>T3</th>\n",
       "      <th>T4</th>\n",
       "      <th>T5</th>\n",
       "      <th>T6</th>\n",
       "      <th>T7</th>\n",
       "      <th>T8</th>\n",
       "      <th>T9</th>\n",
       "      <th>T10</th>\n",
       "      <th>...</th>\n",
       "      <th>T91</th>\n",
       "      <th>T92</th>\n",
       "      <th>T93</th>\n",
       "      <th>T94</th>\n",
       "      <th>T95</th>\n",
       "      <th>T96</th>\n",
       "      <th>T97</th>\n",
       "      <th>T98</th>\n",
       "      <th>T99</th>\n",
       "      <th>T100</th>\n",
       "    </tr>\n",
       "    <tr>\n",
       "      <th>ID</th>\n",
       "      <th></th>\n",
       "      <th></th>\n",
       "      <th></th>\n",
       "      <th></th>\n",
       "      <th></th>\n",
       "      <th></th>\n",
       "      <th></th>\n",
       "      <th></th>\n",
       "      <th></th>\n",
       "      <th></th>\n",
       "      <th></th>\n",
       "      <th></th>\n",
       "      <th></th>\n",
       "      <th></th>\n",
       "      <th></th>\n",
       "      <th></th>\n",
       "      <th></th>\n",
       "      <th></th>\n",
       "      <th></th>\n",
       "      <th></th>\n",
       "      <th></th>\n",
       "    </tr>\n",
       "  </thead>\n",
       "  <tbody>\n",
       "    <tr>\n",
       "      <th>ffb5c29c835e3cecbdaa97bfea5bbe3b</th>\n",
       "      <td>Que se haga tu voluntad y no la mia Señor... S...</td>\n",
       "      <td>A congregarse!!!LEVANTATE... DEJA LAS EXCUSAS ...</td>\n",
       "      <td>EVANGELISTA JUAN CARLOS ACEVEDO PFEIFFER https...</td>\n",
       "      <td>... La lengua, miembro pequeño del cuerpo pero...</td>\n",
       "      <td>13. Por eso en circunstancias como estas guard...</td>\n",
       "      <td>ANTE LA IGNORANCIA, LA ESTUPIDEZ Y LA INSOLENC...</td>\n",
       "      <td>Si hay algo que nunca... jamas... never... no ...</td>\n",
       "      <td>No preguntes porque?... Deja simplemente que e...</td>\n",
       "      <td>Mi deber esta en permitir que se haga su volun...</td>\n",
       "      <td>EVANGELISTA JUAN CARLOS ACEVEDO PFEIFFER https...</td>\n",
       "      <td>...</td>\n",
       "      <td>'Can= Puedo VS. Can''t= No puedoJESUCRISTO SI ...</td>\n",
       "      <td>... En ti tengo paz!!!EVANGELISTA JUAN CARLOS ...</td>\n",
       "      <td>SOY UN GUERRERO DEL DIOS VIVIENTE Y JEHOVa DE ...</td>\n",
       "      <td>1. En ese momento los discipulos se acercaron ...</td>\n",
       "      <td>Cristo resucito... Los demas \\no\\!EN QUIEN CRE...</td>\n",
       "      <td>... No cometas ese error... Te arrepentiras!!!...</td>\n",
       "      <td>13. »Por tanto —agrego Jesus—, mantenganse des...</td>\n",
       "      <td>38. Den, y se les dara: se les echara en el re...</td>\n",
       "      <td>... Dar gracias al Señor en todo tiempo!!!AMeN...</td>\n",
       "      <td>1. Señor , oye mi justo ruego; escucha mi clam...</td>\n",
       "    </tr>\n",
       "  </tbody>\n",
       "</table>\n",
       "<p>1 rows × 100 columns</p>\n",
       "</div>"
      ],
      "text/plain": [
       "                                                                                 T1  \\\n",
       "ID                                                                                    \n",
       "ffb5c29c835e3cecbdaa97bfea5bbe3b  Que se haga tu voluntad y no la mia Señor... S...   \n",
       "\n",
       "                                                                                 T2  \\\n",
       "ID                                                                                    \n",
       "ffb5c29c835e3cecbdaa97bfea5bbe3b  A congregarse!!!LEVANTATE... DEJA LAS EXCUSAS ...   \n",
       "\n",
       "                                                                                 T3  \\\n",
       "ID                                                                                    \n",
       "ffb5c29c835e3cecbdaa97bfea5bbe3b  EVANGELISTA JUAN CARLOS ACEVEDO PFEIFFER https...   \n",
       "\n",
       "                                                                                 T4  \\\n",
       "ID                                                                                    \n",
       "ffb5c29c835e3cecbdaa97bfea5bbe3b  ... La lengua, miembro pequeño del cuerpo pero...   \n",
       "\n",
       "                                                                                 T5  \\\n",
       "ID                                                                                    \n",
       "ffb5c29c835e3cecbdaa97bfea5bbe3b  13. Por eso en circunstancias como estas guard...   \n",
       "\n",
       "                                                                                 T6  \\\n",
       "ID                                                                                    \n",
       "ffb5c29c835e3cecbdaa97bfea5bbe3b  ANTE LA IGNORANCIA, LA ESTUPIDEZ Y LA INSOLENC...   \n",
       "\n",
       "                                                                                 T7  \\\n",
       "ID                                                                                    \n",
       "ffb5c29c835e3cecbdaa97bfea5bbe3b  Si hay algo que nunca... jamas... never... no ...   \n",
       "\n",
       "                                                                                 T8  \\\n",
       "ID                                                                                    \n",
       "ffb5c29c835e3cecbdaa97bfea5bbe3b  No preguntes porque?... Deja simplemente que e...   \n",
       "\n",
       "                                                                                 T9  \\\n",
       "ID                                                                                    \n",
       "ffb5c29c835e3cecbdaa97bfea5bbe3b  Mi deber esta en permitir que se haga su volun...   \n",
       "\n",
       "                                                                                T10  \\\n",
       "ID                                                                                    \n",
       "ffb5c29c835e3cecbdaa97bfea5bbe3b  EVANGELISTA JUAN CARLOS ACEVEDO PFEIFFER https...   \n",
       "\n",
       "                                                        ...                          \\\n",
       "ID                                                      ...                           \n",
       "ffb5c29c835e3cecbdaa97bfea5bbe3b                        ...                           \n",
       "\n",
       "                                                                                T91  \\\n",
       "ID                                                                                    \n",
       "ffb5c29c835e3cecbdaa97bfea5bbe3b  'Can= Puedo VS. Can''t= No puedoJESUCRISTO SI ...   \n",
       "\n",
       "                                                                                T92  \\\n",
       "ID                                                                                    \n",
       "ffb5c29c835e3cecbdaa97bfea5bbe3b  ... En ti tengo paz!!!EVANGELISTA JUAN CARLOS ...   \n",
       "\n",
       "                                                                                T93  \\\n",
       "ID                                                                                    \n",
       "ffb5c29c835e3cecbdaa97bfea5bbe3b  SOY UN GUERRERO DEL DIOS VIVIENTE Y JEHOVa DE ...   \n",
       "\n",
       "                                                                                T94  \\\n",
       "ID                                                                                    \n",
       "ffb5c29c835e3cecbdaa97bfea5bbe3b  1. En ese momento los discipulos se acercaron ...   \n",
       "\n",
       "                                                                                T95  \\\n",
       "ID                                                                                    \n",
       "ffb5c29c835e3cecbdaa97bfea5bbe3b  Cristo resucito... Los demas \\no\\!EN QUIEN CRE...   \n",
       "\n",
       "                                                                                T96  \\\n",
       "ID                                                                                    \n",
       "ffb5c29c835e3cecbdaa97bfea5bbe3b  ... No cometas ese error... Te arrepentiras!!!...   \n",
       "\n",
       "                                                                                T97  \\\n",
       "ID                                                                                    \n",
       "ffb5c29c835e3cecbdaa97bfea5bbe3b  13. »Por tanto —agrego Jesus—, mantenganse des...   \n",
       "\n",
       "                                                                                T98  \\\n",
       "ID                                                                                    \n",
       "ffb5c29c835e3cecbdaa97bfea5bbe3b  38. Den, y se les dara: se les echara en el re...   \n",
       "\n",
       "                                                                                T99  \\\n",
       "ID                                                                                    \n",
       "ffb5c29c835e3cecbdaa97bfea5bbe3b  ... Dar gracias al Señor en todo tiempo!!!AMeN...   \n",
       "\n",
       "                                                                               T100  \n",
       "ID                                                                                   \n",
       "ffb5c29c835e3cecbdaa97bfea5bbe3b  1. Señor , oye mi justo ruego; escucha mi clam...  \n",
       "\n",
       "[1 rows x 100 columns]"
      ]
     },
     "execution_count": 5,
     "metadata": {},
     "output_type": "execute_result"
    }
   ],
   "source": [
    "df_test.head(1)"
   ]
  },
  {
   "cell_type": "markdown",
   "metadata": {},
   "source": [
    "### Loading Train and Test labels."
   ]
  },
  {
   "cell_type": "code",
   "execution_count": 6,
   "metadata": {
    "collapsed": false
   },
   "outputs": [],
   "source": [
    "file_labels_train = \"train_classes.csv\"\n",
    "names = ['ID','Variety','Gender']\n",
    "df_train_labels = pandas.read_csv(file_labels_train,names=names,sep='\\t',encoding='utf-8',header=None,index_col=0,quoting=csv.QUOTE_NONE)"
   ]
  },
  {
   "cell_type": "code",
   "execution_count": 7,
   "metadata": {
    "collapsed": true
   },
   "outputs": [],
   "source": [
    "file_labels_test = \"test_classes.csv\"\n",
    "names = ['ID','Variety','Gender']\n",
    "df_test_labels = pandas.read_csv(file_labels_test,names=names,sep='\\t',encoding='utf-8',header=None,index_col=0,quoting=csv.QUOTE_NONE)"
   ]
  },
  {
   "cell_type": "code",
   "execution_count": 8,
   "metadata": {
    "collapsed": false
   },
   "outputs": [
    {
     "data": {
      "text/html": [
       "<div>\n",
       "<table border=\"1\" class=\"dataframe\">\n",
       "  <thead>\n",
       "    <tr style=\"text-align: right;\">\n",
       "      <th></th>\n",
       "      <th>Variety</th>\n",
       "      <th>Gender</th>\n",
       "    </tr>\n",
       "    <tr>\n",
       "      <th>ID</th>\n",
       "      <th></th>\n",
       "      <th></th>\n",
       "    </tr>\n",
       "  </thead>\n",
       "  <tbody>\n",
       "    <tr>\n",
       "      <th>fff46823954870db83b3e6c74a60412c</th>\n",
       "      <td>peru</td>\n",
       "      <td>male</td>\n",
       "    </tr>\n",
       "  </tbody>\n",
       "</table>\n",
       "</div>"
      ],
      "text/plain": [
       "                                 Variety Gender\n",
       "ID                                             \n",
       "fff46823954870db83b3e6c74a60412c    peru   male"
      ]
     },
     "execution_count": 8,
     "metadata": {},
     "output_type": "execute_result"
    }
   ],
   "source": [
    "df_train_labels.head(1)"
   ]
  },
  {
   "cell_type": "code",
   "execution_count": 9,
   "metadata": {
    "collapsed": false
   },
   "outputs": [
    {
     "data": {
      "text/html": [
       "<div>\n",
       "<table border=\"1\" class=\"dataframe\">\n",
       "  <thead>\n",
       "    <tr style=\"text-align: right;\">\n",
       "      <th></th>\n",
       "      <th>Variety</th>\n",
       "      <th>Gender</th>\n",
       "    </tr>\n",
       "    <tr>\n",
       "      <th>ID</th>\n",
       "      <th></th>\n",
       "      <th></th>\n",
       "    </tr>\n",
       "  </thead>\n",
       "  <tbody>\n",
       "    <tr>\n",
       "      <th>ffb5c29c835e3cecbdaa97bfea5bbe3b</th>\n",
       "      <td>colombia</td>\n",
       "      <td>male</td>\n",
       "    </tr>\n",
       "  </tbody>\n",
       "</table>\n",
       "</div>"
      ],
      "text/plain": [
       "                                   Variety Gender\n",
       "ID                                               \n",
       "ffb5c29c835e3cecbdaa97bfea5bbe3b  colombia   male"
      ]
     },
     "execution_count": 9,
     "metadata": {},
     "output_type": "execute_result"
    }
   ],
   "source": [
    "df_test_labels.head(1)"
   ]
  },
  {
   "cell_type": "markdown",
   "metadata": {},
   "source": [
    "### Tweets' text preocessing. tolowercase, Twitter tokenizer tokenization and spanish stop-words romoval."
   ]
  },
  {
   "cell_type": "code",
   "execution_count": 10,
   "metadata": {
    "collapsed": false
   },
   "outputs": [],
   "source": [
    "tknzr = TweetTokenizer()"
   ]
  },
  {
   "cell_type": "markdown",
   "metadata": {},
   "source": [
    "#### to.lower() all the text."
   ]
  },
  {
   "cell_type": "code",
   "execution_count": 11,
   "metadata": {
    "collapsed": false
   },
   "outputs": [],
   "source": [
    "df_train = df_train.applymap(lambda x: x.lower())"
   ]
  },
  {
   "cell_type": "code",
   "execution_count": 12,
   "metadata": {
    "collapsed": true
   },
   "outputs": [],
   "source": [
    "df_test = df_test.applymap(lambda x: x.lower())"
   ]
  },
  {
   "cell_type": "markdown",
   "metadata": {},
   "source": [
    "#### We build a list to access every tweet per user."
   ]
  },
  {
   "cell_type": "code",
   "execution_count": 13,
   "metadata": {
    "collapsed": true
   },
   "outputs": [],
   "source": [
    "lista_tweets = ['T1','T2','T3','T4','T5','T6','T7','T8','T9','T10','T11','T12','T13','T14','T15','T16','T17','T18','T19','T20','T21','T22','T23','T24','T25','T26','T27','T28','T29','T30','T31','T32','T33','T34','T35','T36','T37','T38','T39','T40','T41','T42','T43','T44','T45','T46','T47','T48','T49','T50','T51','T52','T53','T54','T55','T56','T57','T58','T59','T60','T61','T62','T63','T64','T65','T66','T67','T68','T69','T70','T71','T72','T73','T74','T75','T76','T77','T78','T79','T80','T81','T82','T83','T84','T85','T86','T87','T88','T89','T90','T91','T92','T93','T94','T95','T96','T97','T98','T99','T100']"
   ]
  },
  {
   "cell_type": "markdown",
   "metadata": {},
   "source": [
    "#### Punctuation removal."
   ]
  },
  {
   "cell_type": "code",
   "execution_count": 14,
   "metadata": {
    "collapsed": true
   },
   "outputs": [],
   "source": [
    "for item in lista_tweets:\n",
    "    df_train[item]=df_train[item].str.replace('[^\\w\\s]','')"
   ]
  },
  {
   "cell_type": "code",
   "execution_count": 15,
   "metadata": {
    "collapsed": true
   },
   "outputs": [],
   "source": [
    "for item in lista_tweets:\n",
    "    df_test[item]=df_test[item].str.replace('[^\\w\\s]','')"
   ]
  },
  {
   "cell_type": "markdown",
   "metadata": {},
   "source": [
    "#### Tokenization."
   ]
  },
  {
   "cell_type": "code",
   "execution_count": 16,
   "metadata": {
    "collapsed": false
   },
   "outputs": [],
   "source": [
    "for item in lista_tweets:\n",
    "    df_train[item] = df_train.apply(lambda row: tknzr.tokenize(row[item]),axis=1)"
   ]
  },
  {
   "cell_type": "code",
   "execution_count": 17,
   "metadata": {
    "collapsed": true
   },
   "outputs": [],
   "source": [
    "for item in lista_tweets:\n",
    "    df_test[item] = df_test.apply(lambda row: tknzr.tokenize(row[item]),axis=1)"
   ]
  },
  {
   "cell_type": "markdown",
   "metadata": {},
   "source": [
    "#### Stop-words removal."
   ]
  },
  {
   "cell_type": "code",
   "execution_count": 18,
   "metadata": {
    "collapsed": true
   },
   "outputs": [],
   "source": [
    "stop = stopwords.words('spanish')"
   ]
  },
  {
   "cell_type": "code",
   "execution_count": 19,
   "metadata": {
    "collapsed": true
   },
   "outputs": [],
   "source": [
    "for item in lista_tweets:\n",
    "    df_train[item] = df_train[item].apply(lambda tweet: [word for word in tweet if word not in stop])"
   ]
  },
  {
   "cell_type": "code",
   "execution_count": 20,
   "metadata": {
    "collapsed": true
   },
   "outputs": [],
   "source": [
    "for item in lista_tweets:\n",
    "    df_test[item] = df_test[item].apply(lambda tweet: [word for word in tweet if word not in stop])"
   ]
  },
  {
   "cell_type": "markdown",
   "metadata": {},
   "source": [
    "#### Stem."
   ]
  },
  {
   "cell_type": "code",
   "execution_count": 17,
   "metadata": {
    "collapsed": true
   },
   "outputs": [],
   "source": [
    "stemmer = SnowballStemmer('spanish')"
   ]
  },
  {
   "cell_type": "code",
   "execution_count": 18,
   "metadata": {
    "collapsed": true
   },
   "outputs": [],
   "source": [
    "for item in lista_tweets:\n",
    "    df_train[item] = df_train[item].apply(lambda tweet: [stemmer.stem(w) for w in tweet])"
   ]
  },
  {
   "cell_type": "code",
   "execution_count": 20,
   "metadata": {
    "collapsed": false
   },
   "outputs": [],
   "source": [
    "for item in lista_tweets:\n",
    "    df_test[item] = df_test[item].apply(lambda tweet: [stemmer.stem(w) for w in tweet])"
   ]
  },
  {
   "cell_type": "markdown",
   "metadata": {},
   "source": [
    "#### Packing tweets together."
   ]
  },
  {
   "cell_type": "code",
   "execution_count": 21,
   "metadata": {
    "collapsed": true
   },
   "outputs": [],
   "source": [
    "for item in lista_tweets:\n",
    "    df_train[item] = df_train[item].apply(lambda x: \" \".join(str(z) for z in x))"
   ]
  },
  {
   "cell_type": "code",
   "execution_count": 22,
   "metadata": {
    "collapsed": true
   },
   "outputs": [],
   "source": [
    "for item in lista_tweets:\n",
    "    df_test[item] = df_test[item].apply(lambda x: \" \".join(str(z) for z in x))"
   ]
  },
  {
   "cell_type": "markdown",
   "metadata": {},
   "source": [
    "## Modeling and evaluating."
   ]
  },
  {
   "cell_type": "markdown",
   "metadata": {},
   "source": [
    "### Loading labels."
   ]
  },
  {
   "cell_type": "code",
   "execution_count": 23,
   "metadata": {
    "collapsed": false
   },
   "outputs": [],
   "source": [
    "label_var_train = df_train_labels[\"Variety\"].values.tolist()\n",
    "label_gender_train = df_train_labels[\"Gender\"].values.tolist()"
   ]
  },
  {
   "cell_type": "code",
   "execution_count": 24,
   "metadata": {
    "collapsed": true
   },
   "outputs": [],
   "source": [
    "label_var_test = df_test_labels[\"Variety\"].values.tolist()\n",
    "label_gender_test = df_test_labels[\"Gender\"].values.tolist()"
   ]
  },
  {
   "cell_type": "markdown",
   "metadata": {},
   "source": [
    "### Grouping all tweets per user (train and test)"
   ]
  },
  {
   "cell_type": "code",
   "execution_count": 25,
   "metadata": {
    "collapsed": false
   },
   "outputs": [],
   "source": [
    "tweets_train = []\n",
    "for i in range(len(df_train)):\n",
    "    aux = df_train.iloc[i].values.tolist()\n",
    "    tweets_train.append(' '.join(aux))"
   ]
  },
  {
   "cell_type": "code",
   "execution_count": 26,
   "metadata": {
    "collapsed": true
   },
   "outputs": [],
   "source": [
    "tweets_test = []\n",
    "for i in range(len(df_test)):\n",
    "    aux = df_test.iloc[i].values.tolist()\n",
    "    tweets_test.append(' '.join(aux))"
   ]
  },
  {
   "cell_type": "markdown",
   "metadata": {},
   "source": [
    "### Tf-Idf Unigrams + corpus stop-words removal (max_df=0.90)"
   ]
  },
  {
   "cell_type": "code",
   "execution_count": 27,
   "metadata": {
    "collapsed": true
   },
   "outputs": [],
   "source": [
    "TfIdf_uni_df=TfidfVectorizer(analyzer=\"word\",lowercase=False, ngram_range=(1,1), max_df=0.90, min_df=0)"
   ]
  },
  {
   "cell_type": "code",
   "execution_count": 28,
   "metadata": {
    "collapsed": false
   },
   "outputs": [],
   "source": [
    "train_tfidf_uni_df = TfIdf_uni_df.fit_transform(tweets_train)"
   ]
  },
  {
   "cell_type": "code",
   "execution_count": 29,
   "metadata": {
    "collapsed": true
   },
   "outputs": [],
   "source": [
    "test_tfidf_uni_df = TfIdf_uni_df.transform(tweets_test)"
   ]
  },
  {
   "cell_type": "markdown",
   "metadata": {},
   "source": [
    "#### Trainning and Predicting using Muti-Layer Perceptron"
   ]
  },
  {
   "cell_type": "code",
   "execution_count": 30,
   "metadata": {
    "collapsed": true
   },
   "outputs": [],
   "source": [
    "ann_var = MLPClassifier(solver='lbfgs', alpha=1e-5,hidden_layer_sizes=(100,), random_state=1)"
   ]
  },
  {
   "cell_type": "code",
   "execution_count": 31,
   "metadata": {
    "collapsed": false
   },
   "outputs": [
    {
     "data": {
      "text/plain": [
       "MLPClassifier(activation='relu', alpha=1e-05, batch_size='auto', beta_1=0.9,\n",
       "       beta_2=0.999, early_stopping=False, epsilon=1e-08,\n",
       "       hidden_layer_sizes=(100,), learning_rate='constant',\n",
       "       learning_rate_init=0.001, max_iter=200, momentum=0.9,\n",
       "       nesterovs_momentum=True, power_t=0.5, random_state=1, shuffle=True,\n",
       "       solver='lbfgs', tol=0.0001, validation_fraction=0.1, verbose=False,\n",
       "       warm_start=False)"
      ]
     },
     "execution_count": 31,
     "metadata": {},
     "output_type": "execute_result"
    }
   ],
   "source": [
    "ann_var.fit(train_tfidf_uni_df, label_var_train)"
   ]
  },
  {
   "cell_type": "code",
   "execution_count": 32,
   "metadata": {
    "collapsed": true
   },
   "outputs": [],
   "source": [
    "pred_ann_var = ann_var.predict(test_tfidf_uni_df)"
   ]
  },
  {
   "cell_type": "code",
   "execution_count": 33,
   "metadata": {
    "collapsed": true
   },
   "outputs": [],
   "source": [
    "acc_tfidf_var_ann = accuracy_score(label_var_test, pred_ann_var)\n",
    "f1_tfidf_var_ann = metrics.f1_score(label_var_test, pred_ann_var, average='weighted')"
   ]
  },
  {
   "cell_type": "code",
   "execution_count": 34,
   "metadata": {
    "collapsed": false
   },
   "outputs": [
    {
     "name": "stdout",
     "output_type": "stream",
     "text": [
      "ANN Variety Accuracy amb features + Tf-Idf=  0.917857142857\n",
      "ANN Variety f1-score amb features + Tf-Idf=  0.917851169257\n"
     ]
    }
   ],
   "source": [
    "print (\"ANN Variety Accuracy amb features + Tf-Idf= \",str(acc_tfidf_var_ann))\n",
    "print (\"ANN Variety f1-score amb features + Tf-Idf= \",str(f1_tfidf_var_ann))"
   ]
  }
 ],
 "metadata": {
  "anaconda-cloud": {},
  "kernelspec": {
   "display_name": "Python [Root]",
   "language": "python",
   "name": "Python [Root]"
  },
  "language_info": {
   "codemirror_mode": {
    "name": "ipython",
    "version": 3
   },
   "file_extension": ".py",
   "mimetype": "text/x-python",
   "name": "python",
   "nbconvert_exporter": "python",
   "pygments_lexer": "ipython3",
   "version": "3.5.2"
  }
 },
 "nbformat": 4,
 "nbformat_minor": 0
}
